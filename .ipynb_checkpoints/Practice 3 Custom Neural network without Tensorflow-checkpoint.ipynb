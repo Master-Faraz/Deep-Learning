{
 "cells": [
  {
   "cell_type": "markdown",
   "metadata": {},
   "source": [
    "<h2 style=\"color:green\" align=\"center\">Custom Neural Network</h2>"
   ]
  },
  {
   "cell_type": "code",
   "execution_count": 1,
   "metadata": {},
   "outputs": [],
   "source": [
    "import numpy as np\n",
    "import pandas as pd\n",
    "from matplotlib import pyplot as plt\n"
   ]
  },
  {
   "cell_type": "code",
   "execution_count": 2,
   "metadata": {
    "scrolled": true
   },
   "outputs": [
    {
     "data": {
      "text/html": [
       "<div>\n",
       "<style scoped>\n",
       "    .dataframe tbody tr th:only-of-type {\n",
       "        vertical-align: middle;\n",
       "    }\n",
       "\n",
       "    .dataframe tbody tr th {\n",
       "        vertical-align: top;\n",
       "    }\n",
       "\n",
       "    .dataframe thead th {\n",
       "        text-align: right;\n",
       "    }\n",
       "</style>\n",
       "<table border=\"1\" class=\"dataframe\">\n",
       "  <thead>\n",
       "    <tr style=\"text-align: right;\">\n",
       "      <th></th>\n",
       "      <th>age</th>\n",
       "      <th>affordibility</th>\n",
       "      <th>bought_insurance</th>\n",
       "    </tr>\n",
       "  </thead>\n",
       "  <tbody>\n",
       "    <tr>\n",
       "      <th>0</th>\n",
       "      <td>22</td>\n",
       "      <td>1</td>\n",
       "      <td>0</td>\n",
       "    </tr>\n",
       "    <tr>\n",
       "      <th>1</th>\n",
       "      <td>25</td>\n",
       "      <td>0</td>\n",
       "      <td>0</td>\n",
       "    </tr>\n",
       "    <tr>\n",
       "      <th>2</th>\n",
       "      <td>47</td>\n",
       "      <td>1</td>\n",
       "      <td>1</td>\n",
       "    </tr>\n",
       "    <tr>\n",
       "      <th>3</th>\n",
       "      <td>52</td>\n",
       "      <td>0</td>\n",
       "      <td>0</td>\n",
       "    </tr>\n",
       "    <tr>\n",
       "      <th>4</th>\n",
       "      <td>46</td>\n",
       "      <td>1</td>\n",
       "      <td>1</td>\n",
       "    </tr>\n",
       "  </tbody>\n",
       "</table>\n",
       "</div>"
      ],
      "text/plain": [
       "   age  affordibility  bought_insurance\n",
       "0   22              1                 0\n",
       "1   25              0                 0\n",
       "2   47              1                 1\n",
       "3   52              0                 0\n",
       "4   46              1                 1"
      ]
     },
     "execution_count": 2,
     "metadata": {},
     "output_type": "execute_result"
    }
   ],
   "source": [
    "df = pd.read_csv(\"/home/faraz/All Programs/Deep Learning/Data/insurance_data.csv\")\n",
    "df.head()"
   ]
  },
  {
   "cell_type": "code",
   "execution_count": 3,
   "metadata": {},
   "outputs": [],
   "source": [
    "from sklearn.model_selection import train_test_split\n",
    "X_train, X_test, y_train, y_test = train_test_split(df[['age','affordibility']],df.bought_insurance,test_size=0.2, random_state=25)\n",
    "\n",
    "\n",
    "\n",
    "X_train_scaled = X_train.copy()\n",
    "X_train_scaled['age'] = X_train_scaled['age'] / 100\n",
    "\n",
    "X_test_scaled = X_test.copy()\n",
    "X_test_scaled['age'] = X_test_scaled['age'] / 100"
   ]
  },
  {
   "cell_type": "code",
   "execution_count": 4,
   "metadata": {},
   "outputs": [
    {
     "data": {
      "text/plain": [
       "0.9999999847700205"
      ]
     },
     "execution_count": 4,
     "metadata": {},
     "output_type": "execute_result"
    }
   ],
   "source": [
    "def sigmoid(x):\n",
    "        import math\n",
    "        return 1 / (1 + math.exp(-x))\n",
    "sigmoid(18)"
   ]
  },
  {
   "cell_type": "markdown",
   "metadata": {},
   "source": [
    "**Sigmoid and log_loss Function**"
   ]
  },
  {
   "cell_type": "code",
   "execution_count": 5,
   "metadata": {},
   "outputs": [
    {
     "data": {
      "text/plain": [
       "array([0.99999386, 0.5       , 0.73105858])"
      ]
     },
     "execution_count": 5,
     "metadata": {},
     "output_type": "execute_result"
    }
   ],
   "source": [
    "def sigmoid_numpy(X):\n",
    "   return 1/(1+np.exp(-X))\n",
    "\n",
    "sigmoid_numpy(np.array([12,0,1]))"
   ]
  },
  {
   "cell_type": "code",
   "execution_count": 6,
   "metadata": {},
   "outputs": [],
   "source": [
    "def log_loss(y_true, y_predicted):\n",
    "    epsilon = 1e-15\n",
    "    y_predicted_new = [max(i,epsilon) for i in y_predicted]\n",
    "    y_predicted_new = [min(i,1-epsilon) for i in y_predicted_new]\n",
    "    y_predicted_new = np.array(y_predicted_new)\n",
    "    return -np.mean(y_true*np.log(y_predicted_new)+(1-y_true)*np.log(1-y_predicted_new))"
   ]
  },
  {
   "cell_type": "markdown",
   "metadata": {},
   "source": [
    "**All right now comes the time to implement our own custom neural network class !! yay !!!**"
   ]
  },
  {
   "cell_type": "code",
   "execution_count": 7,
   "metadata": {},
   "outputs": [],
   "source": [
    "class myNN:\n",
    "    def __init__(self):\n",
    "        self.w1 = 1 \n",
    "        self.w2 = 1\n",
    "        self.bias = 0\n",
    "        \n",
    "    def fit(self, X, y, epochs, loss_thresold):\n",
    "        self.w1, self.w2, self.bias = self.gradient_descent(X['age'],X['affordibility'],y, epochs, loss_thresold)\n",
    "        print(f\"Final weights and bias: w1: {self.w1}, w2: {self.w2}, bias: {self.bias}\")\n",
    "        \n",
    "    def predict(self, X_test):\n",
    "        weighted_sum = self.w1*X_test['age'] + self.w2*X_test['affordibility'] + self.bias\n",
    "        return sigmoid_numpy(weighted_sum)\n",
    "\n",
    "    def gradient_descent(self, age,affordability, y_true, epochs, loss_thresold):\n",
    "        w1 = w2 = 1\n",
    "        bias = 0\n",
    "        rate = 0.5\n",
    "        n = len(age)\n",
    "        for i in range(epochs):\n",
    "            weighted_sum = w1 * age + w2 * affordability + bias\n",
    "            y_predicted = sigmoid_numpy(weighted_sum)\n",
    "            loss = log_loss(y_true, y_predicted)\n",
    "            \n",
    "            w1d = (1/n)*np.dot(np.transpose(age),(y_predicted-y_true)) \n",
    "            w2d = (1/n)*np.dot(np.transpose(affordability),(y_predicted-y_true)) \n",
    "\n",
    "            bias_d = np.mean(y_predicted-y_true)\n",
    "            w1 = w1 - rate * w1d\n",
    "            w2 = w2 - rate * w2d\n",
    "            bias = bias - rate * bias_d\n",
    "            \n",
    "            if i%5==0:\n",
    "                print (f'Epoch:{i}, w1:{w1}, w2:{w2}, bias:{bias}, loss:{loss}')\n",
    "            \n",
    "            if loss<=loss_thresold:\n",
    "                print (f'Epoch:{i}, w1:{w1}, w2:{w2}, bias:{bias}, loss:{loss}')\n",
    "                break\n",
    "\n",
    "        return w1, w2, bias"
   ]
  },
  {
   "cell_type": "code",
   "execution_count": 8,
   "metadata": {
    "scrolled": true
   },
   "outputs": [
    {
     "name": "stdout",
     "output_type": "stream",
     "text": [
      "Epoch:0, w1:0.974907633470177, w2:0.948348125394529, bias:-0.11341867736368583, loss:0.7113403233723417\n",
      "Epoch:5, w1:0.9255469396815343, w2:0.8124402814952774, bias:-0.4899449005893882, loss:0.6234717079975919\n",
      "Epoch:10, w1:0.9521448361628083, w2:0.8002404280558159, bias:-0.6768343869109612, loss:0.6051606942838051\n",
      "Epoch:15, w1:1.0082595007242083, w2:0.8332379503132499, bias:-0.788453391813388, loss:0.5979097221992563\n",
      "Epoch:20, w1:1.0747795953648007, w2:0.8785227146485403, bias:-0.8714052604012275, loss:0.5924400203169505\n",
      "Epoch:25, w1:1.1449156405234904, w2:0.9247492176815199, bias:-0.9422703810055987, loss:0.5875433434377383\n",
      "Epoch:30, w1:1.2163020429886016, w2:0.9683695654077998, bias:-1.006898680274023, loss:0.5830224556644095\n",
      "Epoch:35, w1:1.2880889512619977, w2:1.0084757098569885, bias:-1.067462128294764, loss:0.57880798028165\n",
      "Epoch:40, w1:1.3599444060604626, w2:1.0450228680985851, bias:-1.124869776972519, loss:0.5748537660316542\n",
      "Epoch:45, w1:1.431716651874893, w2:1.0782308840940895, bias:-1.1795852366431911, loss:0.5711232391133308\n",
      "Epoch:50, w1:1.503319554173139, w2:1.108384790367645, bias:-1.2319047301235464, loss:0.5675865113475955\n",
      "Epoch:55, w1:1.5746932624478314, w2:1.1357698814417572, bias:-1.2820531951006382, loss:0.5642189832957765\n",
      "Epoch:60, w1:1.6457903747692835, w2:1.1606520362984267, bias:-1.3302186501488862, loss:0.5610003285458063\n",
      "Epoch:65, w1:1.7165708233213919, w2:1.1832731567384374, bias:-1.3765653793659074, loss:0.5579136894049259\n",
      "Epoch:70, w1:1.786999787515191, w2:1.2038515219541523, bias:-1.4212397022558536, loss:0.5549450309566399\n",
      "Epoch:75, w1:1.8570466878799647, w2:1.2225836063756856, bias:-1.4643730430103006, loss:0.552082620540098\n",
      "Epoch:80, w1:1.9266845877204515, w2:1.239646202181951, bias:-1.5060839351490927, loss:0.5493166074383391\n",
      "Epoch:85, w1:1.9958897656796377, w2:1.2551984708420287, bias:-1.5464795429674643, loss:0.5466386828110088\n",
      "Epoch:90, w1:2.064641373016381, w2:1.2693838150830057, bias:-1.585656916406187, loss:0.544041803992791\n",
      "Epoch:95, w1:2.132921142133765, w2:1.2823315526608892, bias:-1.62370406775359, loss:0.5415199705154982\n",
      "Epoch:100, w1:2.2007131317600317, w2:1.2941584023238906, bias:-1.6607009122062801, loss:0.5390680417774752\n",
      "Epoch:105, w1:2.2680035012238426, w2:1.3049698004055228, bias:-1.696720096545423, loss:0.5366815883168387\n",
      "Epoch:110, w1:2.3347803091085155, w2:1.3148610674316568, bias:-1.7318277326108187, loss:0.5343567702561652\n",
      "Epoch:115, w1:2.4010333328795763, w2:1.3239184427944624, bias:-1.7660840484474298, loss:0.5320902377642434\n",
      "Epoch:120, w1:2.4667539067982296, w2:1.3322200036136331, bias:-1.7995439676856702, loss:0.5298790493957434\n",
      "Epoch:125, w1:2.531934775900084, w2:1.339836481944839, bias:-1.832257626074885, loss:0.5277206049775486\n",
      "Epoch:130, w1:2.596569964161303, w2:1.3468319926913224, bias:-1.8642708328071762, loss:0.5256125903547199\n",
      "Epoch:135, w1:2.6606546552446213, w2:1.3532646829736785, bias:-1.8956254832169885, loss:0.5235529318238407\n",
      "Epoch:140, w1:2.7241850844386852, w2:1.3591873123139833, bias:-1.9263599285589843, loss:0.5215397584938061\n",
      "Epoch:145, w1:2.7871584405883882, w2:1.3646477717765084, bias:-1.9565093078173448, loss:0.5195713711450982\n",
      "Epoch:150, w1:2.8495727769689077, w2:1.369689549157275, bias:-1.986105845859897, loss:0.5176462164249293\n",
      "Epoch:155, w1:2.9114269301875635, w2:1.374352146407746, bias:-2.015179121702366, loss:0.5157628654304282\n",
      "Epoch:160, w1:2.9727204463094954, w2:1.3786714546948808, bias:-2.0437563101772027, loss:0.5139199959056944\n",
      "Epoch:165, w1:3.0334535134988267, w2:1.3826800918234745, bias:-2.0718623998960024, loss:0.5121163774192252\n",
      "Epoch:170, w1:3.093626900549121, w2:1.3864077061622344, bias:-2.0995203900445953, loss:0.5103508590024443\n",
      "Epoch:175, w1:3.153241900747673, w2:1.3898812507094254, bias:-2.1267514682472277, loss:0.5086223588230153\n",
      "Epoch:180, w1:3.2123002805793877, w2:1.3931252304959658, bias:-2.1535751714738307, loss:0.5069298555423846\n",
      "Epoch:185, w1:3.2708042328291014, w2:1.3961619261439757, bias:-2.1800095317363692, loss:0.505272381068909\n",
      "Epoch:190, w1:3.3287563336874553, w2:1.3990115960687386, bias:-2.2060712081216627, loss:0.503649014468573\n",
      "Epoch:195, w1:3.386159503505889, w2:1.4016926595248016, bias:-2.231775606534763, loss:0.5020588768368215\n",
      "Epoch:200, w1:3.443016970881803, w2:1.4042218624465033, bias:-2.2571369883752723, loss:0.5005011269691375\n",
      "Epoch:205, w1:3.4993322397861726, w2:1.406614427814455, bias:-2.282168569236039, loss:0.4989749576960279\n",
      "Epoch:210, w1:3.5551090594735104, w2:1.4088841920880264, bias:-2.3068826085968004, loss:0.49747959277116743\n",
      "Epoch:215, w1:3.610351396938527, w2:1.4110437290759732, bias:-2.331290491382403, loss:0.49601428422049737\n",
      "Epoch:220, w1:3.6650634117056042, w2:1.4131044624697842, bias:-2.3554028021644196, loss:0.49457831007578845\n",
      "Epoch:225, w1:3.719249432756598, w2:1.4150767681344103, bias:-2.3792293927046226, loss:0.49317097242917785\n",
      "Epoch:230, w1:3.772913937419856, w2:1.4169700671364103, bias:-2.4027794434676064, loss:0.49179159575593034\n",
      "Epoch:235, w1:3.8260615320589157, w2:1.4187929103882317, bias:-2.426061519666623, loss:0.49043952546159064\n",
      "Epoch:240, w1:3.8786969344133597, w2:1.4205530556975927, bias:-2.4490836223504795, loss:0.48911412661705983\n",
      "Epoch:245, w1:3.930824957456947, w2:1.4222575379313118, bias:-2.471853234989249, loss:0.48781478285126634\n",
      "Epoch:250, w1:3.982450494649576, w2:1.4239127329321233, bias:-2.494377365971801, loss:0.48654089537617085\n",
      "Epoch:255, w1:4.033578506469971, w2:1.425524415763985, bias:-2.516662587388215, loss:0.48529188212307867\n",
      "Epoch:260, w1:4.084214008125393, w2:1.4270978138051291, bias:-2.5387150704342933, loss:0.48406717697273477\n",
      "Epoch:265, w1:4.134362058343228, w2:1.4286376551578575, bias:-2.560540617743305, loss:0.48286622906459864\n",
      "Epoch:270, w1:4.184027749157071, w2:1.4301482127990992, bias:-2.5821446929212857, loss:0.4816885021731252\n",
      "Epoch:275, w1:4.233216196607044, w2:1.4316333448554424, bias:-2.6035324475362565, loss:0.48053347414089403\n",
      "Epoch:280, w1:4.281932532280578, w2:1.4330965313501542, bias:-2.6247087457884315, loss:0.47940063636011826\n",
      "Epoch:285, w1:4.330181895625803, w2:1.4345409077371913, bias:-2.6456781870674306, loss:0.47828949329546017\n",
      "Epoch:290, w1:4.377969426975163, w2:1.4359692955079275, bias:-2.666445126583577, loss:0.4771995620422475\n",
      "Epoch:295, w1:4.425300261221806, w2:1.437384230129958, bias:-2.6870136942431952, loss:0.47613037191516305\n",
      "Epoch:300, w1:4.472179522095915, w2:1.438787986553552, bias:-2.707387811922373, loss:0.4750814640632793\n",
      "Epoch:305, w1:4.518612316992322, w2:1.440182602499841, bias:-2.72757120927963, loss:0.4740523911079949\n",
      "Epoch:310, w1:4.564603732304602, w2:1.4415698997254285, bias:-2.747567438235262, loss:0.4730427168009839\n",
      "Epoch:315, w1:4.610158829224385, w2:1.4429515034405223, bias:-2.7673798862336514, loss:0.47205201569974303\n",
      "Epoch:320, w1:4.655282639967903, w2:1.4443288600418103, bias:-2.787011788394397, loss:0.4710798728587066\n",
      "Epoch:325, w1:4.6999801643947645, w2:1.4457032533068734, bias:-2.8064662386487, loss:0.47012588353423135\n",
      "Epoch:330, w1:4.744256366986734, w2:1.4470758191838622, bias:-2.82574619994884, loss:0.46918965290201436\n",
      "Epoch:335, w1:4.7881161741568015, w2:1.4484475592983093, bias:-2.8448545136308083, loss:0.46827079578574116\n",
      "Epoch:340, w1:4.831564471861215, w2:1.4498193532881727, bias:-2.8637939080030708, loss:0.46736893639594346\n",
      "Epoch:345, w1:4.874606103489267, w2:1.4511919700684275, bias:-2.882567006228014, loss:0.4664837080782067\n",
      "Epoch:350, w1:4.917245868007634, w2:1.4525660781176122, bias:-2.901176333556766, loss:0.46561475306999006\n",
      "Epoch:355, w1:4.959488518337886, w2:1.453942254870665, bias:-2.919624323972772, loss:0.46476172226543927\n",
      "Epoch:360, w1:5.001338759947489, w2:1.4553209952950035, bias:-2.9379133262946424, loss:0.4639242749876548\n",
      "Epoch:365, w1:5.042801249636176, w2:1.4567027197201048, bias:-2.956045609784402, loss:0.46310207876795667\n",
      "Epoch:366, w1:5.051047623653049, w2:1.4569794548473887, bias:-2.9596534546250037, loss:0.46293944095888906\n",
      "Final weights and bias: w1: 5.051047623653049, w2: 1.4569794548473887, bias: -2.9596534546250037\n"
     ]
    }
   ],
   "source": [
    "customModel = myNN()\n",
    "customModel.fit(X_train_scaled, y_train, epochs=8000, loss_thresold=0.4631)"
   ]
  },
  {
   "cell_type": "code",
   "execution_count": 9,
   "metadata": {
    "scrolled": true
   },
   "outputs": [
    {
     "data": {
      "text/html": [
       "<div>\n",
       "<style scoped>\n",
       "    .dataframe tbody tr th:only-of-type {\n",
       "        vertical-align: middle;\n",
       "    }\n",
       "\n",
       "    .dataframe tbody tr th {\n",
       "        vertical-align: top;\n",
       "    }\n",
       "\n",
       "    .dataframe thead th {\n",
       "        text-align: right;\n",
       "    }\n",
       "</style>\n",
       "<table border=\"1\" class=\"dataframe\">\n",
       "  <thead>\n",
       "    <tr style=\"text-align: right;\">\n",
       "      <th></th>\n",
       "      <th>age</th>\n",
       "      <th>affordibility</th>\n",
       "    </tr>\n",
       "  </thead>\n",
       "  <tbody>\n",
       "    <tr>\n",
       "      <th>2</th>\n",
       "      <td>0.47</td>\n",
       "      <td>1</td>\n",
       "    </tr>\n",
       "    <tr>\n",
       "      <th>10</th>\n",
       "      <td>0.18</td>\n",
       "      <td>1</td>\n",
       "    </tr>\n",
       "    <tr>\n",
       "      <th>21</th>\n",
       "      <td>0.26</td>\n",
       "      <td>0</td>\n",
       "    </tr>\n",
       "    <tr>\n",
       "      <th>11</th>\n",
       "      <td>0.28</td>\n",
       "      <td>1</td>\n",
       "    </tr>\n",
       "    <tr>\n",
       "      <th>14</th>\n",
       "      <td>0.49</td>\n",
       "      <td>1</td>\n",
       "    </tr>\n",
       "    <tr>\n",
       "      <th>9</th>\n",
       "      <td>0.61</td>\n",
       "      <td>1</td>\n",
       "    </tr>\n",
       "  </tbody>\n",
       "</table>\n",
       "</div>"
      ],
      "text/plain": [
       "     age  affordibility\n",
       "2   0.47              1\n",
       "10  0.18              1\n",
       "21  0.26              0\n",
       "11  0.28              1\n",
       "14  0.49              1\n",
       "9   0.61              1"
      ]
     },
     "execution_count": 9,
     "metadata": {},
     "output_type": "execute_result"
    }
   ],
   "source": [
    "X_test_scaled"
   ]
  },
  {
   "cell_type": "markdown",
   "metadata": {},
   "source": [
    "**(1) Predict using custom model**"
   ]
  },
  {
   "cell_type": "code",
   "execution_count": 10,
   "metadata": {
    "scrolled": false
   },
   "outputs": [
    {
     "data": {
      "text/plain": [
       "2     0.705020\n",
       "10    0.355836\n",
       "21    0.161599\n",
       "11    0.477919\n",
       "14    0.725586\n",
       "9     0.828987\n",
       "dtype: float64"
      ]
     },
     "execution_count": 10,
     "metadata": {},
     "output_type": "execute_result"
    }
   ],
   "source": [
    "customModel.predict(X_test_scaled)b"
   ]
  },
  {
   "cell_type": "code",
   "execution_count": 12,
   "metadata": {},
   "outputs": [
    {
     "data": {
      "text/plain": [
       "2     1\n",
       "10    0\n",
       "21    0\n",
       "11    0\n",
       "14    1\n",
       "9     1\n",
       "Name: bought_insurance, dtype: int64"
      ]
     },
     "execution_count": 12,
     "metadata": {},
     "output_type": "execute_result"
    }
   ],
   "source": [
    "y_test"
   ]
  },
  {
   "cell_type": "code",
   "execution_count": null,
   "metadata": {},
   "outputs": [],
   "source": []
  }
 ],
 "metadata": {
  "kernelspec": {
   "display_name": "Python 3 (ipykernel)",
   "language": "python",
   "name": "python3"
  },
  "language_info": {
   "codemirror_mode": {
    "name": "ipython",
    "version": 3
   },
   "file_extension": ".py",
   "mimetype": "text/x-python",
   "name": "python",
   "nbconvert_exporter": "python",
   "pygments_lexer": "ipython3",
   "version": "3.9.12"
  }
 },
 "nbformat": 4,
 "nbformat_minor": 2
}
